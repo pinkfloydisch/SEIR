{
  "nbformat": 4,
  "nbformat_minor": 0,
  "metadata": {
    "kernelspec": {
      "display_name": "Python 3",
      "language": "python",
      "name": "python3"
    },
    "colab": {
      "name": "COVIDrandom-search-Germany.ipynb",
      "provenance": [],
      "collapsed_sections": [],
      "include_colab_link": true
    }
  },
  "cells": [
    {
      "cell_type": "markdown",
      "metadata": {
        "id": "view-in-github",
        "colab_type": "text"
      },
      "source": [
        "<a href=\"https://colab.research.google.com/github/pinkfloydisch/SEIR/blob/master/COVIDrandom_search_Germany.ipynb\" target=\"_parent\"><img src=\"https://colab.research.google.com/assets/colab-badge.svg\" alt=\"Open In Colab\"/></a>"
      ]
    },
    {
      "cell_type": "markdown",
      "metadata": {
        "Collapsed": "false",
        "id": "OZrL4pv-sPBG",
        "colab_type": "text"
      },
      "source": [
        "## SIR-X model\n",
        "\n",
        "\n",
        "The SIR-X model http://rocs.hu-berlin.de/corona/docs/forecast/results_by_country/ is a simple but seems to be accurate model.\n",
        "\n",
        "The population is described by **S** (fraction of people suspectible to the infection), **I** (fraction of people infected and spreading the infection), (**R** which is neither suspectible nor infected), and **X** (the number of \"quarantineed\" people). \n",
        "\n",
        "$X$ is roughly the number of cases reported by each country. \n",
        "\n",
        "The equations describing the evolution of $S$, $I$, $R$ and $X$ are self-explanatory:\n",
        "\n",
        "$$\\frac{dS}{dt} = -\\alpha S I - k_0 S,  \\quad \\frac{dI}{dt} = \\alpha S I - \\beta I - k_0 I - k I, \n",
        "\\quad \\frac{dX}{dt} = (k_0 + k) I, \\quad \\frac{dR}{dt} = k_0 S + \\beta I.$$\n",
        "\n",
        "The first equation controls the spread of the infection (the growth is proportional to the probability of meeting of $S$ and $I$), \n",
        "the constant $\\beta$ controls the recovery / death process (and is roughly $\\beta \\approx \\frac{1}{T}$, where $T$ is the characteristic time of the decease). \n",
        "\n",
        "The parameters $k_0$ and $k$ represent the measures taken: $k_0$ corresponds to social distancing / contract tracing, whereas $k$ controls the quarantine process for symptomatic individuals\n",
        "\n",
        "To fit the model, one has to find the parameters of it $\\alpha, \\beta, k_0, k$ and the initial number of infected individuals $I_0$ such that the $X(t)$ approximates the observed cases $C(t)$. The true number of potentially infected people $I(t)$ can be much larger. \n",
        "\n",
        "Several optimization techniques can be used. We tried gradient-free optimization package **nevergrad**, however, \n",
        "right now we are doing the Bayesian optimization in order to give not only the values of parameters, but also the risk values. \n",
        "\n",
        "\n",
        "The data collection below is taken form a nice [Google Colab notebook](https://colab.research.google.com/drive/15R6bXKW--TSMXClMfHql8zU0ePOLEoa3)"
      ]
    },
    {
      "cell_type": "code",
      "metadata": {
        "id": "Qn2zGM5wsPBT",
        "colab_type": "code",
        "colab": {}
      },
      "source": [
        "Country = 'Germany'\n",
        "\n",
        "population = {\"Italy\" : 60317000, \"China\" : 1404328000, \"Germany\" : 83783942}\n",
        "\n",
        "starting_threshold = 10\n",
        "search_attempts = 1000\n",
        "\n"
      ],
      "execution_count": 0,
      "outputs": []
    },
    {
      "cell_type": "code",
      "metadata": {
        "Collapsed": "false",
        "id": "Wtrzqin7sPB2",
        "colab_type": "code",
        "colab": {
          "base_uri": "https://localhost:8080/",
          "height": 238
        },
        "outputId": "5841a20f-76d0-4bb0-b19c-63c2da0009bb"
      },
      "source": [
        "import numpy as np\n",
        "import pandas as pd\n",
        "import matplotlib.pyplot as plt\n",
        "from numba import jit\n",
        "!pip install pymc\n",
        "import pymc as pm\n",
        "from scipy.integrate import odeint\n",
        "from concurrent import futures\n",
        "\n",
        "%matplotlib inline\n"
      ],
      "execution_count": 29,
      "outputs": [
        {
          "output_type": "stream",
          "text": [
            "Collecting pymc\n",
            "\u001b[?25l  Downloading https://files.pythonhosted.org/packages/37/81/9a222c38c65019de9ad5a1ee2448cc4a9b5f7a64eeaf246c77f81c0e6f94/pymc-2.3.8.tar.gz (385kB)\n",
            "\r\u001b[K     |▉                               | 10kB 18.7MB/s eta 0:00:01\r\u001b[K     |█▊                              | 20kB 3.2MB/s eta 0:00:01\r\u001b[K     |██▌                             | 30kB 3.6MB/s eta 0:00:01\r\u001b[K     |███▍                            | 40kB 3.0MB/s eta 0:00:01\r\u001b[K     |████▎                           | 51kB 3.2MB/s eta 0:00:01\r\u001b[K     |█████                           | 61kB 3.8MB/s eta 0:00:01\r\u001b[K     |██████                          | 71kB 4.2MB/s eta 0:00:01\r\u001b[K     |██████▉                         | 81kB 3.8MB/s eta 0:00:01\r\u001b[K     |███████▋                        | 92kB 4.3MB/s eta 0:00:01\r\u001b[K     |████████▌                       | 102kB 4.5MB/s eta 0:00:01\r\u001b[K     |█████████▍                      | 112kB 4.5MB/s eta 0:00:01\r\u001b[K     |██████████▏                     | 122kB 4.5MB/s eta 0:00:01\r\u001b[K     |███████████                     | 133kB 4.5MB/s eta 0:00:01\r\u001b[K     |████████████                    | 143kB 4.5MB/s eta 0:00:01\r\u001b[K     |████████████▊                   | 153kB 4.5MB/s eta 0:00:01\r\u001b[K     |█████████████▋                  | 163kB 4.5MB/s eta 0:00:01\r\u001b[K     |██████████████▌                 | 174kB 4.5MB/s eta 0:00:01\r\u001b[K     |███████████████▎                | 184kB 4.5MB/s eta 0:00:01\r\u001b[K     |████████████████▏               | 194kB 4.5MB/s eta 0:00:01\r\u001b[K     |█████████████████               | 204kB 4.5MB/s eta 0:00:01\r\u001b[K     |█████████████████▉              | 215kB 4.5MB/s eta 0:00:01\r\u001b[K     |██████████████████▊             | 225kB 4.5MB/s eta 0:00:01\r\u001b[K     |███████████████████▋            | 235kB 4.5MB/s eta 0:00:01\r\u001b[K     |████████████████████▍           | 245kB 4.5MB/s eta 0:00:01\r\u001b[K     |█████████████████████▎          | 256kB 4.5MB/s eta 0:00:01\r\u001b[K     |██████████████████████          | 266kB 4.5MB/s eta 0:00:01\r\u001b[K     |███████████████████████         | 276kB 4.5MB/s eta 0:00:01\r\u001b[K     |███████████████████████▉        | 286kB 4.5MB/s eta 0:00:01\r\u001b[K     |████████████████████████▋       | 296kB 4.5MB/s eta 0:00:01\r\u001b[K     |█████████████████████████▌      | 307kB 4.5MB/s eta 0:00:01\r\u001b[K     |██████████████████████████▍     | 317kB 4.5MB/s eta 0:00:01\r\u001b[K     |███████████████████████████▏    | 327kB 4.5MB/s eta 0:00:01\r\u001b[K     |████████████████████████████    | 337kB 4.5MB/s eta 0:00:01\r\u001b[K     |█████████████████████████████   | 348kB 4.5MB/s eta 0:00:01\r\u001b[K     |█████████████████████████████▊  | 358kB 4.5MB/s eta 0:00:01\r\u001b[K     |██████████████████████████████▋ | 368kB 4.5MB/s eta 0:00:01\r\u001b[K     |███████████████████████████████▌| 378kB 4.5MB/s eta 0:00:01\r\u001b[K     |████████████████████████████████| 389kB 4.5MB/s \n",
            "\u001b[?25hBuilding wheels for collected packages: pymc\n",
            "  Building wheel for pymc (setup.py) ... \u001b[?25l\u001b[?25hdone\n",
            "  Created wheel for pymc: filename=pymc-2.3.8-cp36-cp36m-linux_x86_64.whl size=1275938 sha256=b3eb4190c503f470fd21c09bbf97776be63c0cffac788d2cb9c640d6f853a49d\n",
            "  Stored in directory: /root/.cache/pip/wheels/0b/a8/e7/8f3ba91a39294d538a92db052fd1fcba1fca74a58c8b022026\n",
            "Successfully built pymc\n",
            "Installing collected packages: pymc\n",
            "Successfully installed pymc-2.3.8\n"
          ],
          "name": "stdout"
        },
        {
          "output_type": "stream",
          "text": [
            "/usr/local/lib/python3.6/dist-packages/statsmodels/tools/_testing.py:19: FutureWarning: pandas.util.testing is deprecated. Use the functions in the public API at pandas.testing instead.\n",
            "  import pandas.util.testing as tm\n"
          ],
          "name": "stderr"
        }
      ]
    },
    {
      "cell_type": "code",
      "metadata": {
        "Collapsed": "false",
        "id": "n04zoeIdsPCM",
        "colab_type": "code",
        "outputId": "77b20382-377c-49b0-ac61-491556691ddc",
        "colab": {
          "base_uri": "https://localhost:8080/",
          "height": 261
        }
      },
      "source": [
        "online = True\n",
        "\n",
        "if online:\n",
        "    COVID_CONFIRMED_URL = 'https://raw.githubusercontent.com/CSSEGISandData/COVID-19/master/csse_covid_19_data/csse_covid_19_time_series/time_series_covid19_confirmed_global.csv'\n",
        "    COVID_DEATHS_URL = 'https://raw.githubusercontent.com/CSSEGISandData/COVID-19/master/csse_covid_19_data/csse_covid_19_time_series/time_series_covid19_deaths_global.csv'\n",
        "    COVID_RECOVERED_URL = 'https://raw.githubusercontent.com/CSSEGISandData/COVID-19/master/csse_covid_19_data/csse_covid_19_time_series/time_series_covid19_recovered_global.csv'\n",
        "else:\n",
        "    COVID_CONFIRMED_URL = 'COVID-19/csse_covid_19_data/csse_covid_19_time_series/time_series_covid19_confirmed_global.csv'\n",
        "    COVID_DEATHS_URL = 'COVID-19/csse_covid_19_data/csse_covid_19_time_series/time_series_covid19_deaths_global.csv'\n",
        "    COVID_RECOVERED_URL = 'COVID-19/csse_covid_19_data/csse_covid_19_time_series/time_series_covid19_recovered_global.csv'\n",
        "    \n",
        "\n",
        "\n",
        "covid_confirmed = pd.read_csv(COVID_CONFIRMED_URL)\n",
        "covid_deaths = pd.read_csv(COVID_DEATHS_URL)\n",
        "covid_recovered = pd.read_csv(COVID_RECOVERED_URL)\n",
        "\n",
        "covid_confirmed.rename(columns={'Country/Region':'Country'}, inplace=True)\n",
        "covid_deaths.rename(columns={'Country/Region':'Country'}, inplace=True)\n",
        "covid_recovered.rename(columns={'Country/Region':'Country'}, inplace=True)\n",
        "covid_confirmed.rename(columns={'Province/State':'State'}, inplace=True)\n",
        "covid_deaths.rename(columns={'Province/State':'State'}, inplace=True)\n",
        "covid_recovered.rename(columns={'Province/State':'State'}, inplace=True)\n",
        "\n",
        "\n",
        "covid_confirmed.sort_values(covid_confirmed.columns[-1]).tail()"
      ],
      "execution_count": 30,
      "outputs": [
        {
          "output_type": "execute_result",
          "data": {
            "text/html": [
              "<div>\n",
              "<style scoped>\n",
              "    .dataframe tbody tr th:only-of-type {\n",
              "        vertical-align: middle;\n",
              "    }\n",
              "\n",
              "    .dataframe tbody tr th {\n",
              "        vertical-align: top;\n",
              "    }\n",
              "\n",
              "    .dataframe thead th {\n",
              "        text-align: right;\n",
              "    }\n",
              "</style>\n",
              "<table border=\"1\" class=\"dataframe\">\n",
              "  <thead>\n",
              "    <tr style=\"text-align: right;\">\n",
              "      <th></th>\n",
              "      <th>State</th>\n",
              "      <th>Country</th>\n",
              "      <th>Lat</th>\n",
              "      <th>Long</th>\n",
              "      <th>1/22/20</th>\n",
              "      <th>1/23/20</th>\n",
              "      <th>1/24/20</th>\n",
              "      <th>1/25/20</th>\n",
              "      <th>1/26/20</th>\n",
              "      <th>1/27/20</th>\n",
              "      <th>1/28/20</th>\n",
              "      <th>1/29/20</th>\n",
              "      <th>1/30/20</th>\n",
              "      <th>1/31/20</th>\n",
              "      <th>2/1/20</th>\n",
              "      <th>2/2/20</th>\n",
              "      <th>2/3/20</th>\n",
              "      <th>2/4/20</th>\n",
              "      <th>2/5/20</th>\n",
              "      <th>2/6/20</th>\n",
              "      <th>2/7/20</th>\n",
              "      <th>2/8/20</th>\n",
              "      <th>2/9/20</th>\n",
              "      <th>2/10/20</th>\n",
              "      <th>2/11/20</th>\n",
              "      <th>2/12/20</th>\n",
              "      <th>2/13/20</th>\n",
              "      <th>2/14/20</th>\n",
              "      <th>2/15/20</th>\n",
              "      <th>2/16/20</th>\n",
              "      <th>2/17/20</th>\n",
              "      <th>2/18/20</th>\n",
              "      <th>2/19/20</th>\n",
              "      <th>2/20/20</th>\n",
              "      <th>2/21/20</th>\n",
              "      <th>2/22/20</th>\n",
              "      <th>2/23/20</th>\n",
              "      <th>2/24/20</th>\n",
              "      <th>2/25/20</th>\n",
              "      <th>2/26/20</th>\n",
              "      <th>...</th>\n",
              "      <th>3/24/20</th>\n",
              "      <th>3/25/20</th>\n",
              "      <th>3/26/20</th>\n",
              "      <th>3/27/20</th>\n",
              "      <th>3/28/20</th>\n",
              "      <th>3/29/20</th>\n",
              "      <th>3/30/20</th>\n",
              "      <th>3/31/20</th>\n",
              "      <th>4/1/20</th>\n",
              "      <th>4/2/20</th>\n",
              "      <th>4/3/20</th>\n",
              "      <th>4/4/20</th>\n",
              "      <th>4/5/20</th>\n",
              "      <th>4/6/20</th>\n",
              "      <th>4/7/20</th>\n",
              "      <th>4/8/20</th>\n",
              "      <th>4/9/20</th>\n",
              "      <th>4/10/20</th>\n",
              "      <th>4/11/20</th>\n",
              "      <th>4/12/20</th>\n",
              "      <th>4/13/20</th>\n",
              "      <th>4/14/20</th>\n",
              "      <th>4/15/20</th>\n",
              "      <th>4/16/20</th>\n",
              "      <th>4/17/20</th>\n",
              "      <th>4/18/20</th>\n",
              "      <th>4/19/20</th>\n",
              "      <th>4/20/20</th>\n",
              "      <th>4/21/20</th>\n",
              "      <th>4/22/20</th>\n",
              "      <th>4/23/20</th>\n",
              "      <th>4/24/20</th>\n",
              "      <th>4/25/20</th>\n",
              "      <th>4/26/20</th>\n",
              "      <th>4/27/20</th>\n",
              "      <th>4/28/20</th>\n",
              "      <th>4/29/20</th>\n",
              "      <th>4/30/20</th>\n",
              "      <th>5/1/20</th>\n",
              "      <th>5/2/20</th>\n",
              "    </tr>\n",
              "  </thead>\n",
              "  <tbody>\n",
              "    <tr>\n",
              "      <th>116</th>\n",
              "      <td>NaN</td>\n",
              "      <td>France</td>\n",
              "      <td>46.2276</td>\n",
              "      <td>2.2137</td>\n",
              "      <td>0</td>\n",
              "      <td>0</td>\n",
              "      <td>2</td>\n",
              "      <td>3</td>\n",
              "      <td>3</td>\n",
              "      <td>3</td>\n",
              "      <td>4</td>\n",
              "      <td>5</td>\n",
              "      <td>5</td>\n",
              "      <td>5</td>\n",
              "      <td>6</td>\n",
              "      <td>6</td>\n",
              "      <td>6</td>\n",
              "      <td>6</td>\n",
              "      <td>6</td>\n",
              "      <td>6</td>\n",
              "      <td>6</td>\n",
              "      <td>11</td>\n",
              "      <td>11</td>\n",
              "      <td>11</td>\n",
              "      <td>11</td>\n",
              "      <td>11</td>\n",
              "      <td>11</td>\n",
              "      <td>11</td>\n",
              "      <td>12</td>\n",
              "      <td>12</td>\n",
              "      <td>12</td>\n",
              "      <td>12</td>\n",
              "      <td>12</td>\n",
              "      <td>12</td>\n",
              "      <td>12</td>\n",
              "      <td>12</td>\n",
              "      <td>12</td>\n",
              "      <td>12</td>\n",
              "      <td>14</td>\n",
              "      <td>18</td>\n",
              "      <td>...</td>\n",
              "      <td>22304</td>\n",
              "      <td>25233</td>\n",
              "      <td>29155</td>\n",
              "      <td>32964</td>\n",
              "      <td>37575</td>\n",
              "      <td>40174</td>\n",
              "      <td>44550</td>\n",
              "      <td>52128</td>\n",
              "      <td>56989</td>\n",
              "      <td>59105</td>\n",
              "      <td>64338</td>\n",
              "      <td>68605</td>\n",
              "      <td>70478</td>\n",
              "      <td>74390</td>\n",
              "      <td>78167</td>\n",
              "      <td>82048</td>\n",
              "      <td>86334</td>\n",
              "      <td>90676</td>\n",
              "      <td>93790</td>\n",
              "      <td>120633</td>\n",
              "      <td>124298</td>\n",
              "      <td>129257</td>\n",
              "      <td>132473</td>\n",
              "      <td>144944</td>\n",
              "      <td>146923</td>\n",
              "      <td>146906</td>\n",
              "      <td>151808</td>\n",
              "      <td>154188</td>\n",
              "      <td>156921</td>\n",
              "      <td>154715</td>\n",
              "      <td>157026</td>\n",
              "      <td>158636</td>\n",
              "      <td>160292</td>\n",
              "      <td>160847</td>\n",
              "      <td>164589</td>\n",
              "      <td>167605</td>\n",
              "      <td>165093</td>\n",
              "      <td>165764</td>\n",
              "      <td>165764</td>\n",
              "      <td>166976</td>\n",
              "    </tr>\n",
              "    <tr>\n",
              "      <th>223</th>\n",
              "      <td>NaN</td>\n",
              "      <td>United Kingdom</td>\n",
              "      <td>55.3781</td>\n",
              "      <td>-3.4360</td>\n",
              "      <td>0</td>\n",
              "      <td>0</td>\n",
              "      <td>0</td>\n",
              "      <td>0</td>\n",
              "      <td>0</td>\n",
              "      <td>0</td>\n",
              "      <td>0</td>\n",
              "      <td>0</td>\n",
              "      <td>0</td>\n",
              "      <td>2</td>\n",
              "      <td>2</td>\n",
              "      <td>2</td>\n",
              "      <td>2</td>\n",
              "      <td>2</td>\n",
              "      <td>2</td>\n",
              "      <td>2</td>\n",
              "      <td>3</td>\n",
              "      <td>3</td>\n",
              "      <td>3</td>\n",
              "      <td>8</td>\n",
              "      <td>8</td>\n",
              "      <td>9</td>\n",
              "      <td>9</td>\n",
              "      <td>9</td>\n",
              "      <td>9</td>\n",
              "      <td>9</td>\n",
              "      <td>9</td>\n",
              "      <td>9</td>\n",
              "      <td>9</td>\n",
              "      <td>9</td>\n",
              "      <td>9</td>\n",
              "      <td>9</td>\n",
              "      <td>9</td>\n",
              "      <td>13</td>\n",
              "      <td>13</td>\n",
              "      <td>13</td>\n",
              "      <td>...</td>\n",
              "      <td>8077</td>\n",
              "      <td>9529</td>\n",
              "      <td>11658</td>\n",
              "      <td>14543</td>\n",
              "      <td>17089</td>\n",
              "      <td>19522</td>\n",
              "      <td>22141</td>\n",
              "      <td>25150</td>\n",
              "      <td>29474</td>\n",
              "      <td>33718</td>\n",
              "      <td>38168</td>\n",
              "      <td>41903</td>\n",
              "      <td>47806</td>\n",
              "      <td>51608</td>\n",
              "      <td>55242</td>\n",
              "      <td>60733</td>\n",
              "      <td>65077</td>\n",
              "      <td>73758</td>\n",
              "      <td>78991</td>\n",
              "      <td>84279</td>\n",
              "      <td>88621</td>\n",
              "      <td>93873</td>\n",
              "      <td>98476</td>\n",
              "      <td>103093</td>\n",
              "      <td>108692</td>\n",
              "      <td>114217</td>\n",
              "      <td>120067</td>\n",
              "      <td>124743</td>\n",
              "      <td>129044</td>\n",
              "      <td>133495</td>\n",
              "      <td>138078</td>\n",
              "      <td>143464</td>\n",
              "      <td>148377</td>\n",
              "      <td>152840</td>\n",
              "      <td>157149</td>\n",
              "      <td>161145</td>\n",
              "      <td>165221</td>\n",
              "      <td>171253</td>\n",
              "      <td>177454</td>\n",
              "      <td>182260</td>\n",
              "    </tr>\n",
              "    <tr>\n",
              "      <th>137</th>\n",
              "      <td>NaN</td>\n",
              "      <td>Italy</td>\n",
              "      <td>43.0000</td>\n",
              "      <td>12.0000</td>\n",
              "      <td>0</td>\n",
              "      <td>0</td>\n",
              "      <td>0</td>\n",
              "      <td>0</td>\n",
              "      <td>0</td>\n",
              "      <td>0</td>\n",
              "      <td>0</td>\n",
              "      <td>0</td>\n",
              "      <td>0</td>\n",
              "      <td>2</td>\n",
              "      <td>2</td>\n",
              "      <td>2</td>\n",
              "      <td>2</td>\n",
              "      <td>2</td>\n",
              "      <td>2</td>\n",
              "      <td>2</td>\n",
              "      <td>3</td>\n",
              "      <td>3</td>\n",
              "      <td>3</td>\n",
              "      <td>3</td>\n",
              "      <td>3</td>\n",
              "      <td>3</td>\n",
              "      <td>3</td>\n",
              "      <td>3</td>\n",
              "      <td>3</td>\n",
              "      <td>3</td>\n",
              "      <td>3</td>\n",
              "      <td>3</td>\n",
              "      <td>3</td>\n",
              "      <td>3</td>\n",
              "      <td>20</td>\n",
              "      <td>62</td>\n",
              "      <td>155</td>\n",
              "      <td>229</td>\n",
              "      <td>322</td>\n",
              "      <td>453</td>\n",
              "      <td>...</td>\n",
              "      <td>69176</td>\n",
              "      <td>74386</td>\n",
              "      <td>80589</td>\n",
              "      <td>86498</td>\n",
              "      <td>92472</td>\n",
              "      <td>97689</td>\n",
              "      <td>101739</td>\n",
              "      <td>105792</td>\n",
              "      <td>110574</td>\n",
              "      <td>115242</td>\n",
              "      <td>119827</td>\n",
              "      <td>124632</td>\n",
              "      <td>128948</td>\n",
              "      <td>132547</td>\n",
              "      <td>135586</td>\n",
              "      <td>139422</td>\n",
              "      <td>143626</td>\n",
              "      <td>147577</td>\n",
              "      <td>152271</td>\n",
              "      <td>156363</td>\n",
              "      <td>159516</td>\n",
              "      <td>162488</td>\n",
              "      <td>165155</td>\n",
              "      <td>168941</td>\n",
              "      <td>172434</td>\n",
              "      <td>175925</td>\n",
              "      <td>178972</td>\n",
              "      <td>181228</td>\n",
              "      <td>183957</td>\n",
              "      <td>187327</td>\n",
              "      <td>189973</td>\n",
              "      <td>192994</td>\n",
              "      <td>195351</td>\n",
              "      <td>197675</td>\n",
              "      <td>199414</td>\n",
              "      <td>201505</td>\n",
              "      <td>203591</td>\n",
              "      <td>205463</td>\n",
              "      <td>207428</td>\n",
              "      <td>209328</td>\n",
              "    </tr>\n",
              "    <tr>\n",
              "      <th>201</th>\n",
              "      <td>NaN</td>\n",
              "      <td>Spain</td>\n",
              "      <td>40.0000</td>\n",
              "      <td>-4.0000</td>\n",
              "      <td>0</td>\n",
              "      <td>0</td>\n",
              "      <td>0</td>\n",
              "      <td>0</td>\n",
              "      <td>0</td>\n",
              "      <td>0</td>\n",
              "      <td>0</td>\n",
              "      <td>0</td>\n",
              "      <td>0</td>\n",
              "      <td>0</td>\n",
              "      <td>1</td>\n",
              "      <td>1</td>\n",
              "      <td>1</td>\n",
              "      <td>1</td>\n",
              "      <td>1</td>\n",
              "      <td>1</td>\n",
              "      <td>1</td>\n",
              "      <td>1</td>\n",
              "      <td>2</td>\n",
              "      <td>2</td>\n",
              "      <td>2</td>\n",
              "      <td>2</td>\n",
              "      <td>2</td>\n",
              "      <td>2</td>\n",
              "      <td>2</td>\n",
              "      <td>2</td>\n",
              "      <td>2</td>\n",
              "      <td>2</td>\n",
              "      <td>2</td>\n",
              "      <td>2</td>\n",
              "      <td>2</td>\n",
              "      <td>2</td>\n",
              "      <td>2</td>\n",
              "      <td>2</td>\n",
              "      <td>6</td>\n",
              "      <td>13</td>\n",
              "      <td>...</td>\n",
              "      <td>39885</td>\n",
              "      <td>49515</td>\n",
              "      <td>57786</td>\n",
              "      <td>65719</td>\n",
              "      <td>73235</td>\n",
              "      <td>80110</td>\n",
              "      <td>87956</td>\n",
              "      <td>95923</td>\n",
              "      <td>104118</td>\n",
              "      <td>112065</td>\n",
              "      <td>119199</td>\n",
              "      <td>126168</td>\n",
              "      <td>131646</td>\n",
              "      <td>136675</td>\n",
              "      <td>141942</td>\n",
              "      <td>148220</td>\n",
              "      <td>153222</td>\n",
              "      <td>158273</td>\n",
              "      <td>163027</td>\n",
              "      <td>166831</td>\n",
              "      <td>170099</td>\n",
              "      <td>172541</td>\n",
              "      <td>177644</td>\n",
              "      <td>184948</td>\n",
              "      <td>190839</td>\n",
              "      <td>191726</td>\n",
              "      <td>198674</td>\n",
              "      <td>200210</td>\n",
              "      <td>204178</td>\n",
              "      <td>208389</td>\n",
              "      <td>213024</td>\n",
              "      <td>202990</td>\n",
              "      <td>205905</td>\n",
              "      <td>207634</td>\n",
              "      <td>209465</td>\n",
              "      <td>210773</td>\n",
              "      <td>212917</td>\n",
              "      <td>213435</td>\n",
              "      <td>213435</td>\n",
              "      <td>216582</td>\n",
              "    </tr>\n",
              "    <tr>\n",
              "      <th>225</th>\n",
              "      <td>NaN</td>\n",
              "      <td>US</td>\n",
              "      <td>37.0902</td>\n",
              "      <td>-95.7129</td>\n",
              "      <td>1</td>\n",
              "      <td>1</td>\n",
              "      <td>2</td>\n",
              "      <td>2</td>\n",
              "      <td>5</td>\n",
              "      <td>5</td>\n",
              "      <td>5</td>\n",
              "      <td>5</td>\n",
              "      <td>5</td>\n",
              "      <td>7</td>\n",
              "      <td>8</td>\n",
              "      <td>8</td>\n",
              "      <td>11</td>\n",
              "      <td>11</td>\n",
              "      <td>11</td>\n",
              "      <td>11</td>\n",
              "      <td>11</td>\n",
              "      <td>11</td>\n",
              "      <td>11</td>\n",
              "      <td>11</td>\n",
              "      <td>12</td>\n",
              "      <td>12</td>\n",
              "      <td>13</td>\n",
              "      <td>13</td>\n",
              "      <td>13</td>\n",
              "      <td>13</td>\n",
              "      <td>13</td>\n",
              "      <td>13</td>\n",
              "      <td>13</td>\n",
              "      <td>13</td>\n",
              "      <td>15</td>\n",
              "      <td>15</td>\n",
              "      <td>15</td>\n",
              "      <td>51</td>\n",
              "      <td>51</td>\n",
              "      <td>57</td>\n",
              "      <td>...</td>\n",
              "      <td>53736</td>\n",
              "      <td>65778</td>\n",
              "      <td>83836</td>\n",
              "      <td>101657</td>\n",
              "      <td>121465</td>\n",
              "      <td>140909</td>\n",
              "      <td>161831</td>\n",
              "      <td>188172</td>\n",
              "      <td>213242</td>\n",
              "      <td>243622</td>\n",
              "      <td>275367</td>\n",
              "      <td>308650</td>\n",
              "      <td>336802</td>\n",
              "      <td>366317</td>\n",
              "      <td>397121</td>\n",
              "      <td>428654</td>\n",
              "      <td>462780</td>\n",
              "      <td>496535</td>\n",
              "      <td>526396</td>\n",
              "      <td>555313</td>\n",
              "      <td>580619</td>\n",
              "      <td>607670</td>\n",
              "      <td>636350</td>\n",
              "      <td>667592</td>\n",
              "      <td>699706</td>\n",
              "      <td>732197</td>\n",
              "      <td>758809</td>\n",
              "      <td>784326</td>\n",
              "      <td>811865</td>\n",
              "      <td>840351</td>\n",
              "      <td>869170</td>\n",
              "      <td>905358</td>\n",
              "      <td>938154</td>\n",
              "      <td>965785</td>\n",
              "      <td>988197</td>\n",
              "      <td>1012582</td>\n",
              "      <td>1039909</td>\n",
              "      <td>1069424</td>\n",
              "      <td>1103461</td>\n",
              "      <td>1132539</td>\n",
              "    </tr>\n",
              "  </tbody>\n",
              "</table>\n",
              "<p>5 rows × 106 columns</p>\n",
              "</div>"
            ],
            "text/plain": [
              "    State         Country      Lat     Long  ...  4/29/20  4/30/20   5/1/20   5/2/20\n",
              "116   NaN          France  46.2276   2.2137  ...   165093   165764   165764   166976\n",
              "223   NaN  United Kingdom  55.3781  -3.4360  ...   165221   171253   177454   182260\n",
              "137   NaN           Italy  43.0000  12.0000  ...   203591   205463   207428   209328\n",
              "201   NaN           Spain  40.0000  -4.0000  ...   212917   213435   213435   216582\n",
              "225   NaN              US  37.0902 -95.7129  ...  1039909  1069424  1103461  1132539\n",
              "\n",
              "[5 rows x 106 columns]"
            ]
          },
          "metadata": {
            "tags": []
          },
          "execution_count": 30
        }
      ]
    },
    {
      "cell_type": "code",
      "metadata": {
        "Collapsed": "false",
        "id": "9VF88_ydsPCw",
        "colab_type": "code",
        "outputId": "1b82d4fb-7630-40e7-fc2b-36701ca81561",
        "colab": {
          "base_uri": "https://localhost:8080/",
          "height": 34
        }
      },
      "source": [
        "data_country_confirmed = covid_confirmed[covid_confirmed.Country == Country].values[0, 4:].astype(int)\n",
        "\n",
        "data = np.empty((3, data_country_confirmed.shape[0]), dtype=np.int64)\n",
        "data[0] = data_country_confirmed\n",
        "\n",
        "data[1] = covid_deaths   [covid_deaths.Country    == Country].values[0, 4:].astype(int)\n",
        "data[2] = covid_recovered[covid_recovered.Country == Country].values[0, 4:].astype(int)\n",
        "\n",
        "data_normed = data.astype(np.float64) / population[Country]\n",
        "data_normed_only_conf = data_normed[0] - data_normed[1] - data_normed[2]\n",
        "\n",
        "data[0][-1]"
      ],
      "execution_count": 4,
      "outputs": [
        {
          "output_type": "execute_result",
          "data": {
            "text/plain": [
              "164967"
            ]
          },
          "metadata": {
            "tags": []
          },
          "execution_count": 4
        }
      ]
    },
    {
      "cell_type": "code",
      "metadata": {
        "id": "bsYLVBevEDb9",
        "colab_type": "code",
        "outputId": "ef639a2a-e96c-49c5-f01e-a70fdedc91c9",
        "colab": {
          "base_uri": "https://localhost:8080/",
          "height": 235
        }
      },
      "source": [
        "data[0]"
      ],
      "execution_count": 5,
      "outputs": [
        {
          "output_type": "execute_result",
          "data": {
            "text/plain": [
              "array([     0,      0,      0,      0,      0,      1,      4,      4,\n",
              "            4,      5,      8,     10,     12,     12,     12,     12,\n",
              "           13,     13,     14,     14,     16,     16,     16,     16,\n",
              "           16,     16,     16,     16,     16,     16,     16,     16,\n",
              "           16,     16,     17,     27,     46,     48,     79,    130,\n",
              "          159,    196,    262,    482,    670,    799,   1040,   1176,\n",
              "         1457,   1908,   2078,   3675,   4585,   5795,   7272,   9257,\n",
              "        12327,  15320,  19848,  22213,  24873,  29056,  32986,  37323,\n",
              "        43938,  50871,  57695,  62095,  66885,  71808,  77872,  84794,\n",
              "        91159,  96092, 100123, 103374, 107663, 113296, 118181, 122171,\n",
              "       124908, 127854, 130072, 131359, 134753, 137698, 141397, 143342,\n",
              "       145184, 147065, 148291, 150648, 153129, 154999, 156513, 157770,\n",
              "       158758, 159912, 161539, 163009, 164077, 164967])"
            ]
          },
          "metadata": {
            "tags": []
          },
          "execution_count": 5
        }
      ]
    },
    {
      "cell_type": "code",
      "metadata": {
        "Collapsed": "false",
        "id": "PlzwcRdhsPDM",
        "colab_type": "code",
        "outputId": "c4bf892c-74a6-4cc9-fe3b-a2399142a2f9",
        "colab": {
          "base_uri": "https://localhost:8080/",
          "height": 513
        }
      },
      "source": [
        "plt.plot(data.T);\n",
        "plt.figure()\n",
        "plt.plot(data_normed_only_conf);"
      ],
      "execution_count": 6,
      "outputs": [
        {
          "output_type": "display_data",
          "data": {
            "image/png": "[encoded data removed]",
            "text/plain": [
              "<Figure size 432x288 with 1 Axes>"
            ]
          },
          "metadata": {
            "tags": [],
            "needs_background": "light"
          }
        },
        {
          "output_type": "display_data",
          "data": {
            "image/png": "[encoded data removed]",
            "text/plain": [
              "<Figure size 432x288 with 1 Axes>"
            ]
          },
          "metadata": {
            "tags": [],
            "needs_background": "light"
          }
        }
      ]
    },
    {
      "cell_type": "code",
      "metadata": {
        "Collapsed": "false",
        "id": "9bN8lHdVsPDn",
        "colab_type": "code",
        "colab": {}
      },
      "source": [
        "@jit\n",
        "def sirx_rhs(x, t, alpha, gamma, mu):\n",
        "    S, I, X, R = x\n",
        "    dsdt = -alpha*S*I \n",
        "    didt = (alpha*S -  (gamma + mu))*I\n",
        "    dxdt = (mu)*I\n",
        "    dRdt = gamma*I\n",
        "    return np.array([dsdt, didt, dxdt, dRdt])\n",
        "\n",
        "\n",
        "def base_sirx_model_rhs(x, params):\n",
        "    alpha, gamma , mu= params\n",
        "    S, I, X, R = x\n",
        "    dsdt = -alpha*S*I \n",
        "    didt = alpha*S*I - gamma*I - mu*I\n",
        "    dxdt = mu*I\n",
        "    dRdt = gamma*I\n",
        "    return np.array([dsdt, didt, dxdt, dRdt])\n",
        "\n",
        "#@jit\n",
        "def base_sirx_model_odeint(init_vals, dt, N, params):\n",
        "    t_max = N*dt\n",
        "    t = np.linspace(0, t_max, N + 1)\n",
        "    sol = odeint(sirx_rhs, init_vals, t, args=params)\n",
        "    #sol[np.isnan(sol)] = 1e20\n",
        "    #sol[np.isinf(sol)] = 1e20\n",
        "    return sol\n"
      ],
      "execution_count": 0,
      "outputs": []
    },
    {
      "cell_type": "code",
      "metadata": {
        "Collapsed": "false",
        "id": "w1Tm5dWksPD8",
        "colab_type": "code",
        "outputId": "87d2f8fd-ce23-46f0-914f-00da2aae3c7e",
        "colab": {
          "base_uri": "https://localhost:8080/",
          "height": 34
        }
      },
      "source": [
        "#vals = []\n",
        "\n",
        "data1 = data[0]\n",
        "data1 = data1[data1>=starting_threshold]\n",
        "data_offset = 0\n",
        "# data_offset = np.argwhere(data1 > 100)[0][0]\n",
        "\n",
        "print(data_offset)\n",
        "# data1 = data1/population[Country]\n",
        "#plt.plot(data1)\n",
        "\n",
        "#true_cases = data_normed_only_conf[-20:]\n",
        "#true_cases = data_normed_only_conf[data[0] >= 3]\n",
        "#true_cases = data_normed[0][data[0] >= 3]\n",
        "true_cases = data1/population[Country]\n",
        "\n",
        "\n",
        "def obs(alpha_MC, gamma_MC, mu_MC, X0_MC, cf = 1, N = len(true_cases), type_ret=2):\n",
        "        # N is number of points (days)\n",
        "        #global vals\n",
        "        dt = 1.0/cf\n",
        "        num = (N-1)*cf\n",
        "        # res = base_sirx_model_odeint((1.0 - (I0_MC + true_cases[0]), I0_MC, true_cases[0], 0.0), dt, num, (alpha_MC, beta_MC, k0_MC, k_MC))\n",
        "        res = base_sirx_model_odeint((1.0 - X0_MC , true_cases[0], X0_MC , 0.0), dt, num, (alpha_MC, gamma_MC, mu_MC))\n",
        "        rr = res.T[type_ret][::cf]\n",
        "        #print(rr)\n",
        "        #vals.append(rr)\n",
        "        return rr\n",
        "    \n",
        "def obs2(alpha_MC, gamma_MC, mu_MC, X0_MC, cf = 1, N = len(true_cases)):\n",
        "        # N is number of points (days)\n",
        "        #global vals\n",
        "        dt = 1.0/cf\n",
        "        num = (N-1)*cf\n",
        "        # res = base_sirx_model_odeint((1.0 - (I0_MC + true_cases[0]), I0_MC, true_cases[0], 0.0), dt, num, (alpha_MC, beta_MC, k0_MC, k_MC))\n",
        "        res = base_sirx_model_odeint((1.0 - X0_MC , true_cases[0], X0_MC , 0.0), dt, num, (alpha_MC, gamma_MC, mu_MC))\n",
        "        rr = res.T[::cf]\n",
        "        #print(rr)\n",
        "        #vals.append(rr)\n",
        "        return rr\n",
        "\n",
        "    \n",
        "\n",
        "def loss_fn_weighted(alpha, gamma, mu, X0):\n",
        "    # Weighted variance\n",
        "    loss_val = np.linalg.norm( (obs(alpha, gamma, mu, X0)[data_offset:] - true_cases[data_offset:])*data1[data_offset:] )\n",
        "    return loss_val\n",
        "\n",
        "def loss_fn_equal_weight(alpha, gamma, mu, X0):\n",
        "    # Equal weight variance\n",
        "    loss_val = np.linalg.norm(obs(alpha, gamma, mu, X0)[data_offset:] - true_cases[data_offset:])\n",
        "    return loss_val\n",
        "\n",
        "_ = \"\"\"\n",
        "num_days = len(true_cases)-1\n",
        "times = np.linspace(0, num_days, num_days+1)\n",
        "\n",
        "def compute_fit(alpha, beta, k0, k, I0):\n",
        "    params = np.array([alpha, beta, k0, k])\n",
        "    x0 = np.array([1.0, I0, true_cases[0], 0.0])\n",
        "    rhs = lambda x, t: base_sirx_model_rhs(x, params)\n",
        "    sol = odeint(rhs, x0, times)\n",
        "    predicted_cases = sol[:, 2]\n",
        "    return np.linalg.norm(true_cases-predicted_cases)\n",
        "\n",
        "\n",
        "def predict(alpha, beta, I0, k0, k, num_days):\n",
        "    times = np.linspace(0, num_days, num_days+1)\n",
        "    params = np.array([alpha, beta, k0, k])\n",
        "    x0 = np.array([1.0, I0, true_cases[0], 0.0])\n",
        "    rhs = lambda x, t: base_sirx_model_rhs(x, params)\n",
        "    sol = odeint(rhs, x0, times)\n",
        "    return sol\n",
        "\n",
        "\"\"\""
      ],
      "execution_count": 8,
      "outputs": [
        {
          "output_type": "stream",
          "text": [
            "0\n"
          ],
          "name": "stdout"
        }
      ]
    },
    {
      "cell_type": "code",
      "metadata": {
        "id": "qLltPe8VsPEg",
        "colab_type": "code",
        "colab": {}
      },
      "source": [
        "def show_match(vals, new_figure=True, label='Predicted'):\n",
        "    alpha_g, gamma_g, mu_g, X0_g = vals\n",
        "    num = len(true_cases)+3\n",
        "    solution = population[Country]*obs(alpha_g, gamma_g, mu_g, X0_g, N=num, cf=1)\n",
        "\n",
        "    time_scale = np.linspace(1, num, num)\n",
        "    time_scale_true = np.linspace(1, len(true_cases), len(true_cases))\n",
        "    if new_figure:\n",
        "        plt.figure(figsize=(10, 8))\n",
        "        plt.legend();\n",
        "        plt.title('Match between predicted and actual cases');\n",
        "        plt.plot(time_scale_true, population[Country]*true_cases, \"o\", label=\"true\");\n",
        "    plt.plot(time_scale, solution, \"-\", label=label);\n",
        "    # plt.yscale('log')\n",
        "    for i in (3,2,1):\n",
        "        print(\"{}: day {}: number of cases:{:.0f}\".format(label, 4-i, solution[-i] - solution[-i-1]))\n",
        "        \n",
        "def present_solution_many(vals, num_days=120, new_figure=True, label_prefix=None):\n",
        "    alpha_g, gamma_g, mu_g, X0_g = vals\n",
        "    solution = population[Country]*obs(alpha_g, gamma_g, mu_g, X0_g, N=num_days, cf=1)\n",
        "    # print(f\"{label}: Max cases: {max(solution):.0f}\")\n",
        "    if label_prefix is None:\n",
        "        label_prefix = \"\"\n",
        "\n",
        "    cases_max = solution[-1]/1000\n",
        "    label = label_prefix + f\"{cases_max:6.1f}\"\n",
        "    time_scale = np.linspace(-len(true_cases)+1, num_days - len(true_cases), num_days)\n",
        "    time_scale_true = np.linspace(-len(true_cases)+1 , -1, len(true_cases))\n",
        "    if new_figure:\n",
        "        plt.figure(figsize=(10, 8))\n",
        "        plt.legend();\n",
        "        plt.title(Country + ': Reported cases model');\n",
        "        plt.plot(time_scale_true, population[Country]*true_cases, \"o\", label=\"true\");\n",
        "    plt.plot(time_scale, solution, \"-\", label=label);\n",
        "    plt.text(time_scale[-10], solution[-1], label)\n",
        "    # plt.yscale('log')\n",
        "\n",
        "def present_solution(vals, num_days=120, new_figure=True, label=\"Predicted\"):\n",
        "    alpha_g, gamma_g, mu_g, X0_g = vals\n",
        "    solution = population[Country]*obs(alpha_g, gamma_g, mu_g, X0_g, N=num_days, cf=1)\n",
        "    print(f\"{label}: Max cases: {max(solution):.0f}\")\n",
        "\n",
        "    time_scale = np.linspace(-len(true_cases)+1, num_days - len(true_cases), num_days)\n",
        "    time_scale_true = np.linspace(-len(true_cases)+1 , -1, len(true_cases))\n",
        "    if new_figure:\n",
        "        plt.figure(figsize=(10, 8))\n",
        "        plt.legend();\n",
        "        plt.title(Country + ': Reported cases model');\n",
        "        plt.plot(time_scale_true, population[Country]*true_cases, \"o\", label=\"true\");\n",
        "    plt.plot(time_scale, solution, \"-\", label=label);\n",
        "    plt.text(time_scale[-10], solution[-1], label)\n",
        "    # plt.yscale('log')\n",
        "\n",
        "\n",
        "def prognosis(vals, num_days = 120, new_figure=True, several_scenarios=True, label_prefix=None):\n",
        "    alpha_g, gamma_g, mu_g, X0_g = vals\n",
        "    start = obs2(alpha_g, gamma_g, mu_g, X0_g, N=len(true_cases))[:, -1]\n",
        "    dt = 1.0\n",
        "    res1 = base_sirx_model_odeint(start, dt, num_days, (alpha_g, gamma_g, mu_g))\n",
        "    if several_scenarios:\n",
        "        res2 = base_sirx_model_odeint(start, dt, num_days, (alpha_g, gamma_g, mu_g))\n",
        "        res3 = base_sirx_model_odeint(start, dt, num_days, (alpha_g, gamma_g, mu_g))\n",
        "    \n",
        "    if new_figure:\n",
        "        plt.figure(figsize=(10, 8))\n",
        "        plt.title(Country + ': Potentially infected model')\n",
        "        plt.legend()\n",
        "    if label_prefix is not None: \n",
        "        label_prefix += \": \"\n",
        "    else:\n",
        "        label_prefix = ''\n",
        "    plt.plot(res1[:, 1]*population[Country], label=f'{label_prefix}Current measures')\n",
        "    if several_scenarios:\n",
        "        plt.plot(res2[:, 1]*population[Country], label=f'{label_prefix}1% strictly isolated')\n",
        "        plt.plot(res3[:, 1]*population[Country], label=f'{label_prefix}10% strictly isolated')\n",
        "    print(f\"{label_prefix}Infected now: {res1[0, 1]*population[Country]:.0f}\")\n",
        "    if several_scenarios:\n",
        "        print(f\"{label_prefix}Max infected: {max(res1[:, 1]*population[Country]):.0f} vs {max(res2[:, 1]*population[Country]):.0f} vs {max(res3[:, 1]*population[Country]):.0f}\")\n",
        "    else:\n",
        "        print(f\"{label_prefix}Max infected: {max(res1[:, 1]*population[Country]):.0f}\")\n",
        "\n",
        "def prognosis_many(vals, num_days = 120, label_prefix=None, new_figure=True):\n",
        "    alpha_g, gamma_g, mu_g, X0_g = vals\n",
        "    start = obs2(alpha_g, gamma_g, mu_g, X0_g, N=len(true_cases))[:, -1]\n",
        "    dt = 1.0\n",
        "    res1 = base_sirx_model_odeint(start, dt, num_days, (alpha_g, gamma_g, mu_g))\n",
        "    \n",
        "    if new_figure:\n",
        "        plt.figure(figsize=(10, 8))\n",
        "        plt.title(Country + ': Potentially infected model')\n",
        "        plt.legend()\n",
        "    if label_prefix is not None: \n",
        "        label_prefix += \": \"\n",
        "    else:\n",
        "        label_prefix = ''\n",
        "    \n",
        "    solution = res1[:, 1]*population[Country]/1000.0\n",
        "    infected_now = solution[0]\n",
        "    infected_max = max(solution)\n",
        "    infected_max_x = np.argmax(solution)\n",
        "    \n",
        "    label = f\"{label_prefix}{infected_now:0.1f}, max {infected_max:0.1f}\"\n",
        "    plt.plot(res1[:, 1]*population[Country], label=label)\n",
        "    plt.text(infected_max_x, infected_max*1000.0, label_prefix)"
      ],
      "execution_count": 0,
      "outputs": []
    },
    {
      "cell_type": "markdown",
      "metadata": {
        "id": "Su7FzF16sPE9",
        "colab_type": "text"
      },
      "source": [
        "Trying to optimize the solution using gradient descent in the small vicinity"
      ]
    },
    {
      "cell_type": "code",
      "metadata": {
        "id": "U2jLcPe_sPFD",
        "colab_type": "code",
        "colab": {}
      },
      "source": [
        "bounds = ((0.0, 10.0),  (0.0, 1e-1), (0, 0.1), (true_cases[0], true_cases[0]*100))\n",
        "bounds_low = np.array([b[0] for b in bounds])\n",
        "bounds_high = np.array([b[1] for b in bounds])\n",
        "\n",
        "def cost_fn(x):    \n",
        "    for v,b in zip(x,bounds):\n",
        "        l,r = b\n",
        "        if v < l or v > r:\n",
        "            return 1e100\n",
        "    return loss_fn_weighted(*x)"
      ],
      "execution_count": 0,
      "outputs": []
    },
    {
      "cell_type": "code",
      "metadata": {
        "id": "3EqZOlz4sPFe",
        "colab_type": "code",
        "colab": {}
      },
      "source": [
        "from scipy import optimize"
      ],
      "execution_count": 0,
      "outputs": []
    },
    {
      "cell_type": "code",
      "metadata": {
        "id": "g71mnC9XsPF-",
        "colab_type": "code",
        "colab": {}
      },
      "source": [
        "class VectorIterator:\n",
        "    def __init__(self, N, low = -1, high = 1):\n",
        "        self.vector = np.full(N, low)\n",
        "        self.low = low\n",
        "        self.high = high\n",
        "    def __iter__(self):\n",
        "        self.first = True\n",
        "        return self\n",
        "    def __next__(self):\n",
        "        if self.first:\n",
        "            self.first = False\n",
        "            return self.vector\n",
        "            \n",
        "        for i,x in enumerate(self.vector):\n",
        "            if x == self.high:\n",
        "                self.vector[i] = self.low\n",
        "            else:\n",
        "                self.vector[i] += 1\n",
        "                return self.vector\n",
        "        raise StopIteration"
      ],
      "execution_count": 0,
      "outputs": []
    },
    {
      "cell_type": "code",
      "metadata": {
        "id": "wInHn3GLsPGd",
        "colab_type": "code",
        "colab": {}
      },
      "source": [
        "_local_minimum_factor = 1e-2\n",
        "def is_local_minimum(fn, x):\n",
        "    step = x*_local_minimum_factor\n",
        "    vi = VectorIterator(len(x))\n",
        "    m = fn(x)\n",
        "    for v in vi:\n",
        "        y = x + v*step\n",
        "        val_y = fn(y)\n",
        "        if val_y < m:\n",
        "            return False, (y, val_y)\n",
        "    return True, None"
      ],
      "execution_count": 0,
      "outputs": []
    },
    {
      "cell_type": "code",
      "metadata": {
        "id": "3vi0ngDasPGy",
        "colab_type": "code",
        "colab": {}
      },
      "source": [
        "def simple_descend(start, iters = 2000):\n",
        "    v = start\n",
        "    for i in range(iters):\n",
        "        res, nxt = is_local_minimum(cost_fn, v)\n",
        "        if res:\n",
        "            print(f\"Local minimum on step {i}\")\n",
        "            break\n",
        "        else:\n",
        "            v = nxt[0]\n",
        "    return v"
      ],
      "execution_count": 0,
      "outputs": []
    },
    {
      "cell_type": "code",
      "metadata": {
        "id": "XmX8KMKBsPHb",
        "colab_type": "code",
        "colab": {}
      },
      "source": [
        "from IPython.display import clear_output\n",
        "\n",
        "def update_progress(progress):\n",
        "    bar_length = 20\n",
        "    if isinstance(progress, int):\n",
        "        progress = float(progress)\n",
        "    if not isinstance(progress, float):\n",
        "        progress = 0\n",
        "    if progress < 0:\n",
        "        progress = 0\n",
        "    if progress >= 1:\n",
        "        progress = 1\n",
        "\n",
        "    block = int(round(bar_length * progress))\n",
        "\n",
        "    clear_output(wait = True)\n",
        "    text = \"Progress: [{0}] {1:.1f}%\".format( \"#\" * block + \"-\" * (bar_length - block), progress * 100)\n",
        "    print(text)"
      ],
      "execution_count": 0,
      "outputs": []
    },
    {
      "cell_type": "code",
      "metadata": {
        "id": "_HMXVfHwsPHw",
        "colab_type": "code",
        "colab": {}
      },
      "source": [
        "import itertools"
      ],
      "execution_count": 0,
      "outputs": []
    },
    {
      "cell_type": "code",
      "metadata": {
        "scrolled": true,
        "id": "01J181l3sPIJ",
        "colab_type": "code",
        "outputId": "beb98777-ad4a-46f9-f0cd-c432aee23f70",
        "colab": {
          "base_uri": "https://localhost:8080/",
          "height": 34
        }
      },
      "source": [
        "random_search_results = []\n",
        "for i in range(search_attempts):\n",
        "    if 0 == i%10:\n",
        "        update_progress(i/search_attempts)\n",
        "    x = np.random.uniform(bounds_low, bounds_high)\n",
        "    opt = optimize.minimize(cost_fn, x, method='Nelder-Mead')\n",
        "    if not opt.success:\n",
        "        continue\n",
        "    random_search_results.append((opt.fun, opt.x))\n",
        "update_progress(1)"
      ],
      "execution_count": 17,
      "outputs": [
        {
          "output_type": "stream",
          "text": [
            "Progress: [####################] 100.0%\n"
          ],
          "name": "stdout"
        }
      ]
    },
    {
      "cell_type": "code",
      "metadata": {
        "id": "Nm8DK-DQsPIc",
        "colab_type": "code",
        "outputId": "7cc22044-fc70-4673-b942-af4bdea66202",
        "colab": {
          "base_uri": "https://localhost:8080/",
          "height": 689
        }
      },
      "source": [
        "random_search_results = sorted(random_search_results, key=lambda v: v[0])\n",
        "filtered_results = filter(lambda res: res[1][3] < bounds[-1][1], random_search_results)\n",
        "best = list(itertools.islice(filtered_results, 20))\n",
        "for i,(f,(a,g,m,x0)) in enumerate(best):\n",
        "    print(f\"{i+1}: Alpha = {a}, Mu: {m}, Gamma: {g}\\n \")"
      ],
      "execution_count": 18,
      "outputs": [
        {
          "output_type": "stream",
          "text": [
            "1: Alpha = 0.3863600632708736, Mu: 0.00013025532026970701, Gamma: 0.06020893193319314\n",
            " \n",
            "2: Alpha = 0.38647553408213375, Mu: 0.00013029994437698607, Gamma: 0.0601538245007251\n",
            " \n",
            "3: Alpha = 0.38648316392988336, Mu: 0.00013027626512455694, Gamma: 0.06013108955430435\n",
            " \n",
            "4: Alpha = 0.3866668355283308, Mu: 0.00013034764751439446, Gamma: 0.06006190583771924\n",
            " \n",
            "5: Alpha = 0.38672163481345756, Mu: 0.00013033538591204942, Gamma: 0.0600381692180455\n",
            " \n",
            "6: Alpha = 0.3867435175518039, Mu: 0.00013036529143741957, Gamma: 0.060041330463092235\n",
            " \n",
            "7: Alpha = 0.3867993914739155, Mu: 0.00013037127970339478, Gamma: 0.06000927821300045\n",
            " \n",
            "8: Alpha = 0.38682100393527735, Mu: 0.0001303883098701891, Gamma: 0.0599955152544341\n",
            " \n",
            "9: Alpha = 0.3866215613817495, Mu: 0.00012935397012522616, Gamma: 0.059473073405341276\n",
            " \n",
            "10: Alpha = 0.38692508619390104, Mu: 0.00013045715782204255, Gamma: 0.05998057527276471\n",
            " \n",
            "11: Alpha = 0.3869274762481985, Mu: 0.00013039433703254484, Gamma: 0.05993241480729405\n",
            " \n",
            "12: Alpha = 0.3869391688209431, Mu: 0.00013043296217421567, Gamma: 0.0599533482913327\n",
            " \n",
            "13: Alpha = 0.3869564145888854, Mu: 0.00013043835756170835, Gamma: 0.059952005712990974\n",
            " \n",
            "14: Alpha = 0.386706996034655, Mu: 0.0001286639828084736, Gamma: 0.05898609475977617\n",
            " \n",
            "15: Alpha = 0.38683767081698744, Mu: 0.00013302255261011763, Gamma: 0.06167549384139662\n",
            " \n",
            "16: Alpha = 0.3866902960371802, Mu: 0.0001332590624858947, Gamma: 0.06194028482858176\n",
            " \n",
            "17: Alpha = 0.38698962166876005, Mu: 0.00013528457969336213, Gamma: 0.06308031824687835\n",
            " \n",
            "18: Alpha = 0.3865724651320489, Mu: 0.00012569194712476993, Gamma: 0.05722874237196787\n",
            " \n",
            "19: Alpha = 0.38717752107843495, Mu: 0.00013638362246222747, Gamma: 0.06366395644989144\n",
            " \n",
            "20: Alpha = 0.3874223526808718, Mu: 0.00013731174788968563, Gamma: 0.06410484635625868\n",
            " \n"
          ],
          "name": "stdout"
        }
      ]
    },
    {
      "cell_type": "code",
      "metadata": {
        "id": "qqLuR1IhsPIz",
        "colab_type": "code",
        "outputId": "1f828b2a-9c13-48df-a518-5539a69e5115",
        "colab": {
          "base_uri": "https://localhost:8080/",
          "height": 1000
        }
      },
      "source": [
        "new_figure = True\n",
        "for i,(f,x) in enumerate(best):\n",
        "    show_match(x, new_figure=new_figure, label=f\"{i+1}\")\n",
        "    new_figure = False\n",
        "plt.legend()\n",
        "        "
      ],
      "execution_count": 19,
      "outputs": [
        {
          "output_type": "stream",
          "text": [
            "No handles with labels found to put in legend.\n"
          ],
          "name": "stderr"
        },
        {
          "output_type": "stream",
          "text": [
            "1: day 1: number of cases:965\n",
            "1: day 2: number of cases:909\n",
            "1: day 3: number of cases:857\n",
            "2: day 1: number of cases:966\n",
            "2: day 2: number of cases:910\n",
            "2: day 3: number of cases:858\n",
            "3: day 1: number of cases:966\n",
            "3: day 2: number of cases:911\n",
            "3: day 3: number of cases:858\n",
            "4: day 1: number of cases:967\n",
            "4: day 2: number of cases:911\n",
            "4: day 3: number of cases:859\n",
            "5: day 1: number of cases:967\n",
            "5: day 2: number of cases:911\n",
            "5: day 3: number of cases:859\n",
            "6: day 1: number of cases:967\n",
            "6: day 2: number of cases:911\n",
            "6: day 3: number of cases:859\n",
            "7: day 1: number of cases:967\n",
            "7: day 2: number of cases:912\n",
            "7: day 3: number of cases:860\n",
            "8: day 1: number of cases:968\n",
            "8: day 2: number of cases:912\n",
            "8: day 3: number of cases:860\n",
            "9: day 1: number of cases:976\n",
            "9: day 2: number of cases:921\n",
            "9: day 3: number of cases:868\n",
            "10: day 1: number of cases:968\n",
            "10: day 2: number of cases:912\n",
            "10: day 3: number of cases:860\n",
            "11: day 1: number of cases:968\n",
            "11: day 2: number of cases:913\n",
            "11: day 3: number of cases:861\n",
            "12: day 1: number of cases:968\n",
            "12: day 2: number of cases:913\n",
            "12: day 3: number of cases:860\n",
            "13: day 1: number of cases:968\n",
            "13: day 2: number of cases:913\n",
            "13: day 3: number of cases:860\n",
            "14: day 1: number of cases:984\n",
            "14: day 2: number of cases:929\n",
            "14: day 3: number of cases:876\n",
            "15: day 1: number of cases:941\n",
            "15: day 2: number of cases:886\n",
            "15: day 3: number of cases:834\n",
            "16: day 1: number of cases:937\n",
            "16: day 2: number of cases:882\n",
            "16: day 3: number of cases:830\n",
            "17: day 1: number of cases:919\n",
            "17: day 2: number of cases:864\n",
            "17: day 3: number of cases:813\n",
            "18: day 1: number of cases:1014\n",
            "18: day 2: number of cases:958\n",
            "18: day 3: number of cases:906\n",
            "19: day 1: number of cases:911\n",
            "19: day 2: number of cases:856\n",
            "19: day 3: number of cases:804\n",
            "20: day 1: number of cases:904\n",
            "20: day 2: number of cases:849\n",
            "20: day 3: number of cases:797\n"
          ],
          "name": "stdout"
        },
        {
          "output_type": "execute_result",
          "data": {
            "text/plain": [
              "<matplotlib.legend.Legend at 0x7f7019c10fd0>"
            ]
          },
          "metadata": {
            "tags": []
          },
          "execution_count": 19
        },
        {
          "output_type": "display_data",
          "data": {
            "image/png": "[encoded data removed]",
            "text/plain": [
              "<Figure size 720x576 with 1 Axes>"
            ]
          },
          "metadata": {
            "tags": [],
            "needs_background": "light"
          }
        }
      ]
    },
    {
      "cell_type": "code",
      "metadata": {
        "id": "PQDDh-PusPJI",
        "colab_type": "code",
        "outputId": "3c625370-3e91-4ff0-c3ef-05d00b5b0e7b",
        "colab": {
          "base_uri": "https://localhost:8080/",
          "height": 516
        }
      },
      "source": [
        "new_figure = True\n",
        "for i,(f,x) in enumerate(best):\n",
        "    present_solution_many(x, new_figure=new_figure, num_days=120, label_prefix=f\"{i+1}: \")\n",
        "    new_figure = False\n",
        "#plt.legend()"
      ],
      "execution_count": 20,
      "outputs": [
        {
          "output_type": "stream",
          "text": [
            "No handles with labels found to put in legend.\n"
          ],
          "name": "stderr"
        },
        {
          "output_type": "display_data",
          "data": {
            "image/png": "[encoded data removed]",
            "text/plain": [
              "<Figure size 720x576 with 1 Axes>"
            ]
          },
          "metadata": {
            "tags": [],
            "needs_background": "light"
          }
        }
      ]
    },
    {
      "cell_type": "code",
      "metadata": {
        "id": "8UHBvfV3sPJZ",
        "colab_type": "code",
        "outputId": "85db749c-1af2-4f98-96e5-6eb91beefa73",
        "colab": {
          "base_uri": "https://localhost:8080/",
          "height": 533
        }
      },
      "source": [
        "new_figure = True\n",
        "for i,(f,x) in enumerate(best):\n",
        "    prognosis_many(x, new_figure=new_figure, label_prefix=f\"{i+1}\")\n",
        "    new_figure = False\n",
        "plt.legend()"
      ],
      "execution_count": 21,
      "outputs": [
        {
          "output_type": "stream",
          "text": [
            "No handles with labels found to put in legend.\n"
          ],
          "name": "stderr"
        },
        {
          "output_type": "execute_result",
          "data": {
            "text/plain": [
              "<matplotlib.legend.Legend at 0x7f701ab9feb8>"
            ]
          },
          "metadata": {
            "tags": []
          },
          "execution_count": 21
        },
        {
          "output_type": "display_data",
          "data": {
            "image/png": "[encoded data removed]",
            "text/plain": [
              "<Figure size 720x576 with 1 Axes>"
            ]
          },
          "metadata": {
            "tags": [],
            "needs_background": "light"
          }
        }
      ]
    },
    {
      "cell_type": "code",
      "metadata": {
        "id": "VUoK_I1IsPJs",
        "colab_type": "code",
        "colab": {}
      },
      "source": [
        "vals5 = best[0][1]"
      ],
      "execution_count": 0,
      "outputs": []
    },
    {
      "cell_type": "code",
      "metadata": {
        "scrolled": false,
        "id": "ctb8hgXSsPJ8",
        "colab_type": "code",
        "outputId": "c20e1be2-832a-4d92-9464-260b0238e8df",
        "colab": {
          "base_uri": "https://localhost:8080/",
          "height": 566
        }
      },
      "source": [
        "prognosis(vals5)\n",
        "plt.legend()"
      ],
      "execution_count": 23,
      "outputs": [
        {
          "output_type": "stream",
          "text": [
            "No handles with labels found to put in legend.\n"
          ],
          "name": "stderr"
        },
        {
          "output_type": "stream",
          "text": [
            "Infected now: 7629519\n",
            "Max infected: 7629519 vs 7629519 vs 7629519\n"
          ],
          "name": "stdout"
        },
        {
          "output_type": "execute_result",
          "data": {
            "text/plain": [
              "<matplotlib.legend.Legend at 0x7f7019af5438>"
            ]
          },
          "metadata": {
            "tags": []
          },
          "execution_count": 23
        },
        {
          "output_type": "display_data",
          "data": {
            "image/png": "[encoded data removed]",
            "text/plain": [
              "<Figure size 720x576 with 1 Axes>"
            ]
          },
          "metadata": {
            "tags": [],
            "needs_background": "light"
          }
        }
      ]
    },
    {
      "cell_type": "code",
      "metadata": {
        "id": "tRWqWoD-sPKO",
        "colab_type": "code",
        "colab": {}
      },
      "source": [
        "tmp_best = best[1][1]"
      ],
      "execution_count": 0,
      "outputs": []
    },
    {
      "cell_type": "code",
      "metadata": {
        "id": "nQyeRixJsPKf",
        "colab_type": "code",
        "colab": {}
      },
      "source": [
        "_local_minimum_factor = 1e-4\n",
        "if not is_local_minimum(cost_fn, tmp_best)[0]:\n",
        "    tmp_best = simple_descend(tmp_best, 1000)"
      ],
      "execution_count": 0,
      "outputs": []
    },
    {
      "cell_type": "code",
      "metadata": {
        "id": "pcH1L_DCsPKx",
        "colab_type": "code",
        "outputId": "d805259d-fc18-480d-814e-84c028d2f1f4",
        "colab": {
          "base_uri": "https://localhost:8080/",
          "height": 566
        }
      },
      "source": [
        "prognosis(tmp_best)\n",
        "plt.legend()"
      ],
      "execution_count": 26,
      "outputs": [
        {
          "output_type": "stream",
          "text": [
            "No handles with labels found to put in legend.\n"
          ],
          "name": "stderr"
        },
        {
          "output_type": "stream",
          "text": [
            "Infected now: 7673466\n",
            "Max infected: 7673466 vs 7673466 vs 7673466\n"
          ],
          "name": "stdout"
        },
        {
          "output_type": "execute_result",
          "data": {
            "text/plain": [
              "<matplotlib.legend.Legend at 0x7f70182845c0>"
            ]
          },
          "metadata": {
            "tags": []
          },
          "execution_count": 26
        },
        {
          "output_type": "display_data",
          "data": {
            "image/png": "[encoded data removed]",
            "text/plain": [
              "<Figure size 720x576 with 1 Axes>"
            ]
          },
          "metadata": {
            "tags": [],
            "needs_background": "light"
          }
        }
      ]
    },
    {
      "cell_type": "code",
      "metadata": {
        "id": "E0gRerxNsPLW",
        "colab_type": "code",
        "colab": {}
      },
      "source": [
        ""
      ],
      "execution_count": 0,
      "outputs": []
    }
  ]
}